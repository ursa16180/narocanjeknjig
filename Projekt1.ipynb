{
 "cells": [
  {
   "cell_type": "markdown",
   "metadata": {},
   "source": [
    "# Naročanje knjig preko spleta\n",
    "\n",
    "Spletna stran [Book Depository](https://www.bookdepository.com/) nudi brezplačno pošiljanje knjig po celem svetu. Ali imajo morda zato dražje cene knjig kot drugi ponudniki, in tako ceno poštnine \"skrijejo\" v ceno knjige? Na to vprašanje sem poskušala odgovoriti v tem projektu. Zbrala sem podatke še iz druge popularne spletne strani za naročanje knjig - [Amazon](https://www.amazon.com/). Vse podatke primerne za primerjavo sem zbrala v dveh tabelah."
   ]
  },
  {
   "cell_type": "code",
   "execution_count": 1,
   "metadata": {
    "collapsed": false
   },
   "outputs": [],
   "source": [
    "import pandas as pd\n",
    "depository = pd.read_csv('csv-datoteke/depositoryVSI.csv')\n",
    "amazon = pd.read_csv('csv-datoteke/amazonVSI.csv')\n",
    "%matplotlib inline"
   ]
  },
  {
   "cell_type": "markdown",
   "metadata": {},
   "source": [
    "## Urejanje podatkov\n",
    "Zajela sem podatke dveh različnih spletnih strani, zato ni nenavadno da so v različnih formatih. Da jih bom lažje primerjala, jih je najprej potrebno urediti."
   ]
  },
  {
   "cell_type": "code",
   "execution_count": 2,
   "metadata": {
    "collapsed": false
   },
   "outputs": [],
   "source": [
    "#Da bo mogoče računanje s cenami iz Book Depository-ja je potrebno nize spremeniti v številke in vejico v piko\n",
    "def popraviVejco(niz): \n",
    "    nova=niz[:-3]+'.'+niz[-2:]\n",
    "    return float(nova)\n",
    "depository['cenaE']=depository['cenaE'].map(popraviVejco)\n",
    "\n",
    "#Shranjevanje ISBN kod kot števila je povzročilo, da so se odstranile vse začetne ničle\n",
    "def popraviISBN10(stevilka):\n",
    "    stevilka=str(stevilka)\n",
    "    dolzina=len(stevilka)\n",
    "    if dolzina<10:\n",
    "        return '0'*(10-dolzina)+stevilka\n",
    "    else:\n",
    "        return stevilka\n",
    "depository['ISBN10']=depository['ISBN10'].map(popraviISBN10)\n",
    "amazon['ISBN10']=amazon['ISBN10'].map(popraviISBN10)\n",
    "\n",
    "def popraviISBN13(stevilka):\n",
    "    stevilka=str(stevilka)\n",
    "    dolzina=len(stevilka)\n",
    "    if dolzina<13:\n",
    "        return '0'*(10-dolzina)+stevilka\n",
    "    else:\n",
    "        return stevilka\n",
    "depository['ISBN13']=depository['ISBN13'].map(popraviISBN13)\n",
    "\n",
    "#Cene na Amazonu so podane v dolarjih in jih je za primerjavo potrebno pretvoriti v evre\n",
    "def pretvoriEuro(cena):\n",
    "    nova=round(cena*0.893295815,2)\n",
    "    return nova\n",
    "amazon['cenaD']=amazon['cenaD'].map(pretvoriEuro)\n",
    "\n",
    "#Iz datuma sem izluščila posamezna leta\n",
    "def leto(date):\n",
    "    return int(date[-4:])\n",
    "depository['leto']=depository['datum'].map(leto)"
   ]
  },
  {
   "cell_type": "markdown",
   "metadata": {},
   "source": [
    "Vsi podatki so zbrani v tabeli **knjige**, cene so zapisane v evrih."
   ]
  },
  {
   "cell_type": "code",
   "execution_count": 3,
   "metadata": {
    "collapsed": false
   },
   "outputs": [
    {
     "data": {
      "text/html": [
       "<div>\n",
       "<table border=\"1\" class=\"dataframe\">\n",
       "  <thead>\n",
       "    <tr style=\"text-align: right;\">\n",
       "      <th></th>\n",
       "      <th>avtor</th>\n",
       "      <th>naslov</th>\n",
       "      <th>Depository</th>\n",
       "      <th>format</th>\n",
       "      <th>jezik</th>\n",
       "      <th>datum</th>\n",
       "      <th>ISBN13</th>\n",
       "      <th>leto</th>\n",
       "      <th>Amazon</th>\n",
       "    </tr>\n",
       "    <tr>\n",
       "      <th>ISBN10</th>\n",
       "      <th></th>\n",
       "      <th></th>\n",
       "      <th></th>\n",
       "      <th></th>\n",
       "      <th></th>\n",
       "      <th></th>\n",
       "      <th></th>\n",
       "      <th></th>\n",
       "      <th></th>\n",
       "    </tr>\n",
       "  </thead>\n",
       "  <tbody>\n",
       "    <tr>\n",
       "      <th>0062300547</th>\n",
       "      <td>J D Vance</td>\n",
       "      <td>Hillbilly Elegy : A Memoir of a Family and Cul...</td>\n",
       "      <td>22.80</td>\n",
       "      <td>Hardback</td>\n",
       "      <td>English</td>\n",
       "      <td>28 Jun 2016</td>\n",
       "      <td>9780062300546</td>\n",
       "      <td>2016</td>\n",
       "      <td>15.00</td>\n",
       "    </tr>\n",
       "    <tr>\n",
       "      <th>0062315005</th>\n",
       "      <td>Paulo Coelho</td>\n",
       "      <td>The Alchemist</td>\n",
       "      <td>12.20</td>\n",
       "      <td>Paperback</td>\n",
       "      <td>English</td>\n",
       "      <td>01 May 2014</td>\n",
       "      <td>9780062315007</td>\n",
       "      <td>2014</td>\n",
       "      <td>9.10</td>\n",
       "    </tr>\n",
       "    <tr>\n",
       "      <th>0071771328</th>\n",
       "      <td>Kerry Patterson</td>\n",
       "      <td>Crucial Conversations Tools for Talking When S...</td>\n",
       "      <td>12.96</td>\n",
       "      <td>Paperback</td>\n",
       "      <td>English</td>\n",
       "      <td>01 Oct 2011</td>\n",
       "      <td>9780071771320</td>\n",
       "      <td>2011</td>\n",
       "      <td>10.09</td>\n",
       "    </tr>\n",
       "    <tr>\n",
       "      <th>0073523917</th>\n",
       "      <td>Stephen E. Lucas</td>\n",
       "      <td>The Art of Public Speaking</td>\n",
       "      <td>156.74</td>\n",
       "      <td>Paperback</td>\n",
       "      <td>English</td>\n",
       "      <td>01 Nov 2014</td>\n",
       "      <td>9780073523910</td>\n",
       "      <td>2014</td>\n",
       "      <td>88.18</td>\n",
       "    </tr>\n",
       "    <tr>\n",
       "      <th>0077733711</th>\n",
       "      <td>Jane P. Mallor</td>\n",
       "      <td>Business Law</td>\n",
       "      <td>316.81</td>\n",
       "      <td>Hardback</td>\n",
       "      <td>English</td>\n",
       "      <td>01 Mar 2015</td>\n",
       "      <td>9780077733711</td>\n",
       "      <td>2015</td>\n",
       "      <td>294.95</td>\n",
       "    </tr>\n",
       "  </tbody>\n",
       "</table>\n",
       "</div>"
      ],
      "text/plain": [
       "                       avtor  \\\n",
       "ISBN10                         \n",
       "0062300547         J D Vance   \n",
       "0062315005      Paulo Coelho   \n",
       "0071771328   Kerry Patterson   \n",
       "0073523917  Stephen E. Lucas   \n",
       "0077733711    Jane P. Mallor   \n",
       "\n",
       "                                                       naslov  Depository  \\\n",
       "ISBN10                                                                      \n",
       "0062300547  Hillbilly Elegy : A Memoir of a Family and Cul...       22.80   \n",
       "0062315005                                      The Alchemist       12.20   \n",
       "0071771328  Crucial Conversations Tools for Talking When S...       12.96   \n",
       "0073523917                         The Art of Public Speaking      156.74   \n",
       "0077733711                                       Business Law      316.81   \n",
       "\n",
       "               format    jezik        datum         ISBN13  leto  Amazon  \n",
       "ISBN10                                                                    \n",
       "0062300547   Hardback  English  28 Jun 2016  9780062300546  2016   15.00  \n",
       "0062315005  Paperback  English  01 May 2014  9780062315007  2014    9.10  \n",
       "0071771328  Paperback  English  01 Oct 2011  9780071771320  2011   10.09  \n",
       "0073523917  Paperback  English  01 Nov 2014  9780073523910  2014   88.18  \n",
       "0077733711   Hardback  English  01 Mar 2015  9780077733711  2015  294.95  "
      ]
     },
     "execution_count": 3,
     "metadata": {},
     "output_type": "execute_result"
    }
   ],
   "source": [
    "knjige = pd\\\n",
    "    .merge(depository, amazon)\\\n",
    "    .set_index('ISBN10')\n",
    "knjige\\\n",
    "    .rename(columns={'cenaE':'Depository', 'cenaD':'Amazon'}, inplace=True)\n",
    "knjige[:5]"
   ]
  },
  {
   "cell_type": "markdown",
   "metadata": {
    "collapsed": false
   },
   "source": [
    "## Ali so knjige na Amazonu res cenejše?\n",
    "Oglejmo si graf, na katerem so prikazane cene za oba spletna ponudnika. Opazimo, da sta si običajno obe ceni za določeno knjigo zelo podobni, vendar pa iz grafa lahko vidimo, da so cene na Book Depository-ju višje."
   ]
  },
  {
   "cell_type": "code",
   "execution_count": 4,
   "metadata": {
    "collapsed": false
   },
   "outputs": [
    {
     "data": {
      "text/plain": [
       "<matplotlib.axes._subplots.AxesSubplot at 0x7732083978>"
      ]
     },
     "execution_count": 4,
     "metadata": {},
     "output_type": "execute_result"
    },
    {
     "data": {
      "image/png": "[encoded data removed]",
      "text/plain": [
       "<matplotlib.figure.Figure at 0x773209e748>"
      ]
     },
     "metadata": {},
     "output_type": "display_data"
    }
   ],
   "source": [
    "knjige.reset_index()[:100].plot(y=['Depository','Amazon'], style=['rx','o'])"
   ]
  },
  {
   "cell_type": "markdown",
   "metadata": {},
   "source": [
    "Poglejmo si, kakšen procent knjig je dejansko cenejši na spletni strani Amazon.\n"
   ]
  },
  {
   "cell_type": "code",
   "execution_count": 5,
   "metadata": {
    "collapsed": false,
    "scrolled": false
   },
   "outputs": [
    {
     "data": {
      "text/plain": [
       "0.9526813880126183"
      ]
     },
     "execution_count": 5,
     "metadata": {},
     "output_type": "execute_result"
    }
   ],
   "source": [
    "(knjige[knjige.Depository>knjige.Amazon]['ISBN13'].size)/(knjige['ISBN13'].size)"
   ]
  },
  {
   "cell_type": "markdown",
   "metadata": {},
   "source": [
    "Izkaže se, da je kar **95,3%** knjig cenejših na Amazonu. Ali pa je razlika dovolj velika, da pokrije tudi poštnino? Poglejmo si razlike v cenah."
   ]
  },
  {
   "cell_type": "code",
   "execution_count": 6,
   "metadata": {
    "collapsed": false
   },
   "outputs": [
    {
     "data": {
      "text/html": [
       "<div>\n",
       "<table border=\"1\" class=\"dataframe\">\n",
       "  <thead>\n",
       "    <tr style=\"text-align: right;\">\n",
       "      <th></th>\n",
       "      <th>Depository</th>\n",
       "      <th>Amazon</th>\n",
       "      <th>razlika</th>\n",
       "    </tr>\n",
       "    <tr>\n",
       "      <th>ISBN10</th>\n",
       "      <th></th>\n",
       "      <th></th>\n",
       "      <th></th>\n",
       "    </tr>\n",
       "  </thead>\n",
       "  <tbody>\n",
       "    <tr>\n",
       "      <th>0062300547</th>\n",
       "      <td>22.80</td>\n",
       "      <td>15.00</td>\n",
       "      <td>7.80</td>\n",
       "    </tr>\n",
       "    <tr>\n",
       "      <th>0062315005</th>\n",
       "      <td>12.20</td>\n",
       "      <td>9.10</td>\n",
       "      <td>3.10</td>\n",
       "    </tr>\n",
       "    <tr>\n",
       "      <th>0071771328</th>\n",
       "      <td>12.96</td>\n",
       "      <td>10.09</td>\n",
       "      <td>2.87</td>\n",
       "    </tr>\n",
       "    <tr>\n",
       "      <th>0073523917</th>\n",
       "      <td>156.74</td>\n",
       "      <td>88.18</td>\n",
       "      <td>68.56</td>\n",
       "    </tr>\n",
       "    <tr>\n",
       "      <th>0077733711</th>\n",
       "      <td>316.81</td>\n",
       "      <td>294.95</td>\n",
       "      <td>21.86</td>\n",
       "    </tr>\n",
       "  </tbody>\n",
       "</table>\n",
       "</div>"
      ],
      "text/plain": [
       "            Depository  Amazon  razlika\n",
       "ISBN10                                 \n",
       "0062300547       22.80   15.00     7.80\n",
       "0062315005       12.20    9.10     3.10\n",
       "0071771328       12.96   10.09     2.87\n",
       "0073523917      156.74   88.18    68.56\n",
       "0077733711      316.81  294.95    21.86"
      ]
     },
     "execution_count": 6,
     "metadata": {},
     "output_type": "execute_result"
    }
   ],
   "source": [
    "knjige['razlika']=knjige['Depository']-knjige['Amazon']\n",
    "knjige[['Depository','Amazon','razlika']][:5]"
   ]
  },
  {
   "cell_type": "code",
   "execution_count": 7,
   "metadata": {
    "collapsed": false
   },
   "outputs": [
    {
     "data": {
      "text/plain": [
       "7.453880126182962"
      ]
     },
     "execution_count": 7,
     "metadata": {},
     "output_type": "execute_result"
    }
   ],
   "source": [
    "knjige['razlika'].mean()"
   ]
  },
  {
   "cell_type": "markdown",
   "metadata": {},
   "source": [
    "V povprečju so knjige za kar 7.45  € cenejše na Amazonu. Običajna poštnina za eno \"navadno težko\" knjigo je 7.13€, za dve pa 10.69€. \n",
    "Če naročimo za več kot 22.33 € knjig je poštnina pogosto celo brezplačna. Glede na izračune se zdi, da če naročamo samo eno knjigo so cene zelo podobne, če pa jih naročamo več, se nam bolj splača Amazon.\n",
    "Kdaj pa se nam splača naročiti samo eno knjigo preko Depository-a namesto Amazona? Oglejmo si graf, kako se spreminjajo razlike z večanjem cen (na recimo Book Depository-ju). Rdeča črta predstavlja ceno poštnine posamezne knjige, ki stane manj kot 22.33 € (nad 22.33 € poštnine ni)."
   ]
  },
  {
   "cell_type": "code",
   "execution_count": 8,
   "metadata": {
    "collapsed": false
   },
   "outputs": [
    {
     "data": {
      "text/plain": [
       "[<matplotlib.lines.Line2D at 0x773209e5f8>]"
      ]
     },
     "execution_count": 8,
     "metadata": {},
     "output_type": "execute_result"
    },
    {
     "data": {
      "image/png": "[encoded data removed]",
      "text/plain": [
       "<matplotlib.figure.Figure at 0x7734d62ac8>"
      ]
     },
     "metadata": {},
     "output_type": "display_data"
    }
   ],
   "source": [
    "knjige\\\n",
    "    .reset_index()\\\n",
    "    .sort_values(by='Depository',ascending=True)[:270]\\\n",
    "    .plot(x='Depository',y='razlika',style='o')\\\n",
    "    .plot([0,22.33],[7.13,7.13],'r--')"
   ]
  },
  {
   "cell_type": "markdown",
   "metadata": {},
   "source": [
    "Opazimo, da so za knjige cenejše od približno 20 € celo razlike manjše od poštnine za posamezno knjigo. Oglejmo si povprečne razlike za knjige cenejše od 10 €, med 10 - 20 €, med 20 - 30 €..."
   ]
  },
  {
   "cell_type": "code",
   "execution_count": 9,
   "metadata": {
    "collapsed": false
   },
   "outputs": [
    {
     "data": {
      "text/html": [
       "<div>\n",
       "<table border=\"1\" class=\"dataframe\">\n",
       "  <thead>\n",
       "    <tr style=\"text-align: right;\">\n",
       "      <th></th>\n",
       "      <th>razlika</th>\n",
       "    </tr>\n",
       "    <tr>\n",
       "      <th>DepositoryMed</th>\n",
       "      <th></th>\n",
       "    </tr>\n",
       "  </thead>\n",
       "  <tbody>\n",
       "    <tr>\n",
       "      <th>0.0</th>\n",
       "      <td>1.604923</td>\n",
       "    </tr>\n",
       "    <tr>\n",
       "      <th>10.0</th>\n",
       "      <td>4.772929</td>\n",
       "    </tr>\n",
       "    <tr>\n",
       "      <th>20.0</th>\n",
       "      <td>9.053492</td>\n",
       "    </tr>\n",
       "    <tr>\n",
       "      <th>30.0</th>\n",
       "      <td>10.920588</td>\n",
       "    </tr>\n",
       "    <tr>\n",
       "      <th>40.0</th>\n",
       "      <td>16.163333</td>\n",
       "    </tr>\n",
       "    <tr>\n",
       "      <th>50.0</th>\n",
       "      <td>3.290000</td>\n",
       "    </tr>\n",
       "    <tr>\n",
       "      <th>60.0</th>\n",
       "      <td>21.573333</td>\n",
       "    </tr>\n",
       "  </tbody>\n",
       "</table>\n",
       "</div>"
      ],
      "text/plain": [
       "                 razlika\n",
       "DepositoryMed           \n",
       "0.0             1.604923\n",
       "10.0            4.772929\n",
       "20.0            9.053492\n",
       "30.0           10.920588\n",
       "40.0           16.163333\n",
       "50.0            3.290000\n",
       "60.0           21.573333"
      ]
     },
     "execution_count": 9,
     "metadata": {},
     "output_type": "execute_result"
    }
   ],
   "source": [
    "knjige['DepositoryMed']=knjige['Depository']//10*10\n",
    "knjige\\\n",
    "    .groupby('DepositoryMed')[['razlika']]\\\n",
    "    .mean()[:60]"
   ]
  },
  {
   "cell_type": "markdown",
   "metadata": {},
   "source": [
    "Torej, če naročamo **posamezno** knjigo **cenejšo od 20€ **, se nam jo bolj izplača naročiti preko Book Depository-ja. Za dražje knjige pa se pogosteje bolj izplača Amazon.\n",
    "\n",
    "## Ali vezava knjige kaj vpliva na razlike v cenah?\n",
    "Knjige lahko kupimo v različnih formatih. Najbolj običajni sta mehka (Paperback) in trda (Hardback) vezava. Vrsta vezave zagotovo vpliva na težo knjige. Ali zato vpliva tudi na razlike v cenah?"
   ]
  },
  {
   "cell_type": "code",
   "execution_count": 10,
   "metadata": {
    "collapsed": false
   },
   "outputs": [
    {
     "data": {
      "text/html": [
       "<div>\n",
       "<table border=\"1\" class=\"dataframe\">\n",
       "  <thead>\n",
       "    <tr style=\"text-align: right;\">\n",
       "      <th></th>\n",
       "      <th>razlika</th>\n",
       "    </tr>\n",
       "    <tr>\n",
       "      <th>format</th>\n",
       "      <th></th>\n",
       "    </tr>\n",
       "  </thead>\n",
       "  <tbody>\n",
       "    <tr>\n",
       "      <th>Hardback</th>\n",
       "      <td>11.022222</td>\n",
       "    </tr>\n",
       "    <tr>\n",
       "      <th>Paperback</th>\n",
       "      <td>5.943622</td>\n",
       "    </tr>\n",
       "  </tbody>\n",
       "</table>\n",
       "</div>"
      ],
      "text/plain": [
       "             razlika\n",
       "format              \n",
       "Hardback   11.022222\n",
       "Paperback   5.943622"
      ]
     },
     "execution_count": 10,
     "metadata": {},
     "output_type": "execute_result"
    }
   ],
   "source": [
    "knjige[(knjige['format']=='Hardback')|(knjige['format']=='Paperback')]\\\n",
    "    .groupby('format')[['razlika']]\\\n",
    "    .mean()"
   ]
  },
  {
   "cell_type": "markdown",
   "metadata": {},
   "source": [
    "Iz zbranih podatkov lahko vidimo, da so razlike znatno manjše, če naročamo knjigo z mehko vezavo (Paperback), kot če naročamo knjigo s trdo vezavo (Hardback). Izgleda, da se nam knjige z mehko vezavo celo bolj izplača kupovati preko Book Depository-a, s trdo pa preko Amazona.\n",
    "\n",
    "## Ali leto izdaje kaj vpliva na razlike v cenah?"
   ]
  },
  {
   "cell_type": "code",
   "execution_count": 11,
   "metadata": {
    "collapsed": false
   },
   "outputs": [
    {
     "data": {
      "text/plain": [
       "<matplotlib.axes._subplots.AxesSubplot at 0x77350921d0>"
      ]
     },
     "execution_count": 11,
     "metadata": {},
     "output_type": "execute_result"
    },
    {
     "data": {
      "image/png": "[encoded data removed]",
      "text/plain": [
       "<matplotlib.figure.Figure at 0x77350dc4e0>"
      ]
     },
     "metadata": {},
     "output_type": "display_data"
    }
   ],
   "source": [
    "knjige[(knjige['leto']>1970)]\\\n",
    "    .groupby('leto')[['razlika']]\\\n",
    "    .mean()\\\n",
    "    .plot()"
   ]
  },
  {
   "cell_type": "markdown",
   "metadata": {},
   "source": [
    "Iz grafa je razvidno, da se trend razlik z leti povečuje. Iz zbranih podatkov težko povemo kaj o posameznih letih, lahko pa opazimo, da imajo novejše knjige veliko bolj ugodne cene na Amazon-u."
   ]
  }
 ],
 "metadata": {
  "anaconda-cloud": {},
  "kernelspec": {
   "display_name": "Python [Root]",
   "language": "python",
   "name": "Python [Root]"
  },
  "language_info": {
   "codemirror_mode": {
    "name": "ipython",
    "version": 3
   },
   "file_extension": ".py",
   "mimetype": "text/x-python",
   "name": "python",
   "nbconvert_exporter": "python",
   "pygments_lexer": "ipython3",
   "version": "3.5.2"
  }
 },
 "nbformat": 4,
 "nbformat_minor": 0
}
